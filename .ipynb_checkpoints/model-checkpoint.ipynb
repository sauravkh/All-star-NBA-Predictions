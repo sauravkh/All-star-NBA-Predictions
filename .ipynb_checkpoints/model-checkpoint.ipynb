{
 "cells": [
  {
   "cell_type": "code",
   "execution_count": 1,
   "metadata": {
    "collapsed": true
   },
   "outputs": [],
   "source": [
    "import pandas as pd\n",
    "import numpy as np\n",
    "import matplotlib.pyplot as plt\n"
   ]
  },
  {
   "cell_type": "code",
   "execution_count": 1062,
   "metadata": {},
   "outputs": [],
   "source": [
    "players = pd.read_csv('data/players.csv')\n",
    "players_data = pd.read_csv('data/player_data.csv')\n",
    "season_stats = pd.read_csv('data/Seasons_Stats.csv')\n",
    "labels = pd.read_csv('data/labels.csv')"
   ]
  },
  {
   "cell_type": "markdown",
   "metadata": {},
   "source": [
    "## Steps\n",
    "#### Training\n",
    "* Get a list of all historical players\n",
    "* Get labels and features for these players (roughly 400)\n",
    "* Get labels and features for 300 historical players with no all nba selections\n",
    "* Select row with max PER\n",
    "* train data\n",
    "* test against current players with labels"
   ]
  },
  {
   "cell_type": "code",
   "execution_count": 859,
   "metadata": {},
   "outputs": [],
   "source": [
    "pd.set_option('max_columns', 800)\n"
   ]
  },
  {
   "cell_type": "code",
   "execution_count": 1019,
   "metadata": {},
   "outputs": [
    {
     "data": {
      "text/html": [
       "<div>\n",
       "<style scoped>\n",
       "    .dataframe tbody tr th:only-of-type {\n",
       "        vertical-align: middle;\n",
       "    }\n",
       "\n",
       "    .dataframe tbody tr th {\n",
       "        vertical-align: top;\n",
       "    }\n",
       "\n",
       "    .dataframe thead th {\n",
       "        text-align: right;\n",
       "    }\n",
       "</style>\n",
       "<table border=\"1\" class=\"dataframe\">\n",
       "  <thead>\n",
       "    <tr style=\"text-align: right;\">\n",
       "      <th></th>\n",
       "      <th>name</th>\n",
       "      <th>year_start</th>\n",
       "      <th>year_end</th>\n",
       "      <th>position</th>\n",
       "      <th>height</th>\n",
       "      <th>weight</th>\n",
       "      <th>birth_date</th>\n",
       "      <th>college</th>\n",
       "    </tr>\n",
       "  </thead>\n",
       "  <tbody>\n",
       "    <tr>\n",
       "      <th>0</th>\n",
       "      <td>Alaa Abdelnaby</td>\n",
       "      <td>1991</td>\n",
       "      <td>1995</td>\n",
       "      <td>F-C</td>\n",
       "      <td>6-10</td>\n",
       "      <td>240.0</td>\n",
       "      <td>June 24, 1968</td>\n",
       "      <td>Duke University</td>\n",
       "    </tr>\n",
       "    <tr>\n",
       "      <th>1</th>\n",
       "      <td>Zaid Abdul-Aziz</td>\n",
       "      <td>1969</td>\n",
       "      <td>1978</td>\n",
       "      <td>C-F</td>\n",
       "      <td>6-9</td>\n",
       "      <td>235.0</td>\n",
       "      <td>April 7, 1946</td>\n",
       "      <td>Iowa State University</td>\n",
       "    </tr>\n",
       "    <tr>\n",
       "      <th>2</th>\n",
       "      <td>Kareem Abdul-Jabbar</td>\n",
       "      <td>1970</td>\n",
       "      <td>1989</td>\n",
       "      <td>C</td>\n",
       "      <td>7-2</td>\n",
       "      <td>225.0</td>\n",
       "      <td>April 16, 1947</td>\n",
       "      <td>University of California, Los Angeles</td>\n",
       "    </tr>\n",
       "    <tr>\n",
       "      <th>3</th>\n",
       "      <td>Mahmoud Abdul-Rauf</td>\n",
       "      <td>1991</td>\n",
       "      <td>2001</td>\n",
       "      <td>G</td>\n",
       "      <td>6-1</td>\n",
       "      <td>162.0</td>\n",
       "      <td>March 9, 1969</td>\n",
       "      <td>Louisiana State University</td>\n",
       "    </tr>\n",
       "    <tr>\n",
       "      <th>4</th>\n",
       "      <td>Tariq Abdul-Wahad</td>\n",
       "      <td>1998</td>\n",
       "      <td>2003</td>\n",
       "      <td>F</td>\n",
       "      <td>6-6</td>\n",
       "      <td>223.0</td>\n",
       "      <td>November 3, 1974</td>\n",
       "      <td>San Jose State University</td>\n",
       "    </tr>\n",
       "  </tbody>\n",
       "</table>\n",
       "</div>"
      ],
      "text/plain": [
       "                  name  year_start  year_end position height  weight  \\\n",
       "0       Alaa Abdelnaby        1991      1995      F-C   6-10   240.0   \n",
       "1      Zaid Abdul-Aziz        1969      1978      C-F    6-9   235.0   \n",
       "2  Kareem Abdul-Jabbar        1970      1989        C    7-2   225.0   \n",
       "3   Mahmoud Abdul-Rauf        1991      2001        G    6-1   162.0   \n",
       "4    Tariq Abdul-Wahad        1998      2003        F    6-6   223.0   \n",
       "\n",
       "         birth_date                                college  \n",
       "0     June 24, 1968                        Duke University  \n",
       "1     April 7, 1946                  Iowa State University  \n",
       "2    April 16, 1947  University of California, Los Angeles  \n",
       "3     March 9, 1969             Louisiana State University  \n",
       "4  November 3, 1974              San Jose State University  "
      ]
     },
     "execution_count": 1019,
     "metadata": {},
     "output_type": "execute_result"
    }
   ],
   "source": [
    "players_data.head()"
   ]
  },
  {
   "cell_type": "code",
   "execution_count": 1018,
   "metadata": {},
   "outputs": [
    {
     "data": {
      "text/html": [
       "<div>\n",
       "<style scoped>\n",
       "    .dataframe tbody tr th:only-of-type {\n",
       "        vertical-align: middle;\n",
       "    }\n",
       "\n",
       "    .dataframe tbody tr th {\n",
       "        vertical-align: top;\n",
       "    }\n",
       "\n",
       "    .dataframe thead th {\n",
       "        text-align: right;\n",
       "    }\n",
       "</style>\n",
       "<table border=\"1\" class=\"dataframe\">\n",
       "  <thead>\n",
       "    <tr style=\"text-align: right;\">\n",
       "      <th></th>\n",
       "      <th>Unnamed: 0</th>\n",
       "      <th>Year</th>\n",
       "      <th>Player</th>\n",
       "      <th>Pos</th>\n",
       "      <th>Age</th>\n",
       "      <th>Tm</th>\n",
       "      <th>G</th>\n",
       "      <th>GS</th>\n",
       "      <th>MP</th>\n",
       "      <th>PER</th>\n",
       "      <th>TS%</th>\n",
       "      <th>3PAr</th>\n",
       "      <th>FTr</th>\n",
       "      <th>ORB%</th>\n",
       "      <th>DRB%</th>\n",
       "      <th>TRB%</th>\n",
       "      <th>AST%</th>\n",
       "      <th>STL%</th>\n",
       "      <th>BLK%</th>\n",
       "      <th>TOV%</th>\n",
       "      <th>USG%</th>\n",
       "      <th>blanl</th>\n",
       "      <th>OWS</th>\n",
       "      <th>DWS</th>\n",
       "      <th>WS</th>\n",
       "      <th>WS/48</th>\n",
       "      <th>blank2</th>\n",
       "      <th>OBPM</th>\n",
       "      <th>DBPM</th>\n",
       "      <th>BPM</th>\n",
       "      <th>VORP</th>\n",
       "      <th>FG</th>\n",
       "      <th>FGA</th>\n",
       "      <th>FG%</th>\n",
       "      <th>3P</th>\n",
       "      <th>3PA</th>\n",
       "      <th>3P%</th>\n",
       "      <th>2P</th>\n",
       "      <th>2PA</th>\n",
       "      <th>2P%</th>\n",
       "      <th>eFG%</th>\n",
       "      <th>FT</th>\n",
       "      <th>FTA</th>\n",
       "      <th>FT%</th>\n",
       "      <th>ORB</th>\n",
       "      <th>DRB</th>\n",
       "      <th>TRB</th>\n",
       "      <th>AST</th>\n",
       "      <th>STL</th>\n",
       "      <th>BLK</th>\n",
       "      <th>TOV</th>\n",
       "      <th>PF</th>\n",
       "      <th>PTS</th>\n",
       "    </tr>\n",
       "  </thead>\n",
       "  <tbody>\n",
       "    <tr>\n",
       "      <th>0</th>\n",
       "      <td>0</td>\n",
       "      <td>1950.0</td>\n",
       "      <td>Curly Armstrong</td>\n",
       "      <td>G-F</td>\n",
       "      <td>31.0</td>\n",
       "      <td>FTW</td>\n",
       "      <td>63.0</td>\n",
       "      <td>NaN</td>\n",
       "      <td>NaN</td>\n",
       "      <td>NaN</td>\n",
       "      <td>0.368</td>\n",
       "      <td>NaN</td>\n",
       "      <td>0.467</td>\n",
       "      <td>NaN</td>\n",
       "      <td>NaN</td>\n",
       "      <td>NaN</td>\n",
       "      <td>NaN</td>\n",
       "      <td>NaN</td>\n",
       "      <td>NaN</td>\n",
       "      <td>NaN</td>\n",
       "      <td>NaN</td>\n",
       "      <td>NaN</td>\n",
       "      <td>-0.1</td>\n",
       "      <td>3.6</td>\n",
       "      <td>3.5</td>\n",
       "      <td>NaN</td>\n",
       "      <td>NaN</td>\n",
       "      <td>NaN</td>\n",
       "      <td>NaN</td>\n",
       "      <td>NaN</td>\n",
       "      <td>NaN</td>\n",
       "      <td>144.0</td>\n",
       "      <td>516.0</td>\n",
       "      <td>0.279</td>\n",
       "      <td>NaN</td>\n",
       "      <td>NaN</td>\n",
       "      <td>NaN</td>\n",
       "      <td>144.0</td>\n",
       "      <td>516.0</td>\n",
       "      <td>0.279</td>\n",
       "      <td>0.279</td>\n",
       "      <td>170.0</td>\n",
       "      <td>241.0</td>\n",
       "      <td>0.705</td>\n",
       "      <td>NaN</td>\n",
       "      <td>NaN</td>\n",
       "      <td>NaN</td>\n",
       "      <td>176.0</td>\n",
       "      <td>NaN</td>\n",
       "      <td>NaN</td>\n",
       "      <td>NaN</td>\n",
       "      <td>217.0</td>\n",
       "      <td>458.0</td>\n",
       "    </tr>\n",
       "    <tr>\n",
       "      <th>1</th>\n",
       "      <td>1</td>\n",
       "      <td>1950.0</td>\n",
       "      <td>Cliff Barker</td>\n",
       "      <td>SG</td>\n",
       "      <td>29.0</td>\n",
       "      <td>INO</td>\n",
       "      <td>49.0</td>\n",
       "      <td>NaN</td>\n",
       "      <td>NaN</td>\n",
       "      <td>NaN</td>\n",
       "      <td>0.435</td>\n",
       "      <td>NaN</td>\n",
       "      <td>0.387</td>\n",
       "      <td>NaN</td>\n",
       "      <td>NaN</td>\n",
       "      <td>NaN</td>\n",
       "      <td>NaN</td>\n",
       "      <td>NaN</td>\n",
       "      <td>NaN</td>\n",
       "      <td>NaN</td>\n",
       "      <td>NaN</td>\n",
       "      <td>NaN</td>\n",
       "      <td>1.6</td>\n",
       "      <td>0.6</td>\n",
       "      <td>2.2</td>\n",
       "      <td>NaN</td>\n",
       "      <td>NaN</td>\n",
       "      <td>NaN</td>\n",
       "      <td>NaN</td>\n",
       "      <td>NaN</td>\n",
       "      <td>NaN</td>\n",
       "      <td>102.0</td>\n",
       "      <td>274.0</td>\n",
       "      <td>0.372</td>\n",
       "      <td>NaN</td>\n",
       "      <td>NaN</td>\n",
       "      <td>NaN</td>\n",
       "      <td>102.0</td>\n",
       "      <td>274.0</td>\n",
       "      <td>0.372</td>\n",
       "      <td>0.372</td>\n",
       "      <td>75.0</td>\n",
       "      <td>106.0</td>\n",
       "      <td>0.708</td>\n",
       "      <td>NaN</td>\n",
       "      <td>NaN</td>\n",
       "      <td>NaN</td>\n",
       "      <td>109.0</td>\n",
       "      <td>NaN</td>\n",
       "      <td>NaN</td>\n",
       "      <td>NaN</td>\n",
       "      <td>99.0</td>\n",
       "      <td>279.0</td>\n",
       "    </tr>\n",
       "    <tr>\n",
       "      <th>2</th>\n",
       "      <td>2</td>\n",
       "      <td>1950.0</td>\n",
       "      <td>Leo Barnhorst</td>\n",
       "      <td>SF</td>\n",
       "      <td>25.0</td>\n",
       "      <td>CHS</td>\n",
       "      <td>67.0</td>\n",
       "      <td>NaN</td>\n",
       "      <td>NaN</td>\n",
       "      <td>NaN</td>\n",
       "      <td>0.394</td>\n",
       "      <td>NaN</td>\n",
       "      <td>0.259</td>\n",
       "      <td>NaN</td>\n",
       "      <td>NaN</td>\n",
       "      <td>NaN</td>\n",
       "      <td>NaN</td>\n",
       "      <td>NaN</td>\n",
       "      <td>NaN</td>\n",
       "      <td>NaN</td>\n",
       "      <td>NaN</td>\n",
       "      <td>NaN</td>\n",
       "      <td>0.9</td>\n",
       "      <td>2.8</td>\n",
       "      <td>3.6</td>\n",
       "      <td>NaN</td>\n",
       "      <td>NaN</td>\n",
       "      <td>NaN</td>\n",
       "      <td>NaN</td>\n",
       "      <td>NaN</td>\n",
       "      <td>NaN</td>\n",
       "      <td>174.0</td>\n",
       "      <td>499.0</td>\n",
       "      <td>0.349</td>\n",
       "      <td>NaN</td>\n",
       "      <td>NaN</td>\n",
       "      <td>NaN</td>\n",
       "      <td>174.0</td>\n",
       "      <td>499.0</td>\n",
       "      <td>0.349</td>\n",
       "      <td>0.349</td>\n",
       "      <td>90.0</td>\n",
       "      <td>129.0</td>\n",
       "      <td>0.698</td>\n",
       "      <td>NaN</td>\n",
       "      <td>NaN</td>\n",
       "      <td>NaN</td>\n",
       "      <td>140.0</td>\n",
       "      <td>NaN</td>\n",
       "      <td>NaN</td>\n",
       "      <td>NaN</td>\n",
       "      <td>192.0</td>\n",
       "      <td>438.0</td>\n",
       "    </tr>\n",
       "    <tr>\n",
       "      <th>3</th>\n",
       "      <td>3</td>\n",
       "      <td>1950.0</td>\n",
       "      <td>Ed Bartels</td>\n",
       "      <td>F</td>\n",
       "      <td>24.0</td>\n",
       "      <td>TOT</td>\n",
       "      <td>15.0</td>\n",
       "      <td>NaN</td>\n",
       "      <td>NaN</td>\n",
       "      <td>NaN</td>\n",
       "      <td>0.312</td>\n",
       "      <td>NaN</td>\n",
       "      <td>0.395</td>\n",
       "      <td>NaN</td>\n",
       "      <td>NaN</td>\n",
       "      <td>NaN</td>\n",
       "      <td>NaN</td>\n",
       "      <td>NaN</td>\n",
       "      <td>NaN</td>\n",
       "      <td>NaN</td>\n",
       "      <td>NaN</td>\n",
       "      <td>NaN</td>\n",
       "      <td>-0.5</td>\n",
       "      <td>-0.1</td>\n",
       "      <td>-0.6</td>\n",
       "      <td>NaN</td>\n",
       "      <td>NaN</td>\n",
       "      <td>NaN</td>\n",
       "      <td>NaN</td>\n",
       "      <td>NaN</td>\n",
       "      <td>NaN</td>\n",
       "      <td>22.0</td>\n",
       "      <td>86.0</td>\n",
       "      <td>0.256</td>\n",
       "      <td>NaN</td>\n",
       "      <td>NaN</td>\n",
       "      <td>NaN</td>\n",
       "      <td>22.0</td>\n",
       "      <td>86.0</td>\n",
       "      <td>0.256</td>\n",
       "      <td>0.256</td>\n",
       "      <td>19.0</td>\n",
       "      <td>34.0</td>\n",
       "      <td>0.559</td>\n",
       "      <td>NaN</td>\n",
       "      <td>NaN</td>\n",
       "      <td>NaN</td>\n",
       "      <td>20.0</td>\n",
       "      <td>NaN</td>\n",
       "      <td>NaN</td>\n",
       "      <td>NaN</td>\n",
       "      <td>29.0</td>\n",
       "      <td>63.0</td>\n",
       "    </tr>\n",
       "    <tr>\n",
       "      <th>4</th>\n",
       "      <td>4</td>\n",
       "      <td>1950.0</td>\n",
       "      <td>Ed Bartels</td>\n",
       "      <td>F</td>\n",
       "      <td>24.0</td>\n",
       "      <td>DNN</td>\n",
       "      <td>13.0</td>\n",
       "      <td>NaN</td>\n",
       "      <td>NaN</td>\n",
       "      <td>NaN</td>\n",
       "      <td>0.308</td>\n",
       "      <td>NaN</td>\n",
       "      <td>0.378</td>\n",
       "      <td>NaN</td>\n",
       "      <td>NaN</td>\n",
       "      <td>NaN</td>\n",
       "      <td>NaN</td>\n",
       "      <td>NaN</td>\n",
       "      <td>NaN</td>\n",
       "      <td>NaN</td>\n",
       "      <td>NaN</td>\n",
       "      <td>NaN</td>\n",
       "      <td>-0.5</td>\n",
       "      <td>-0.1</td>\n",
       "      <td>-0.6</td>\n",
       "      <td>NaN</td>\n",
       "      <td>NaN</td>\n",
       "      <td>NaN</td>\n",
       "      <td>NaN</td>\n",
       "      <td>NaN</td>\n",
       "      <td>NaN</td>\n",
       "      <td>21.0</td>\n",
       "      <td>82.0</td>\n",
       "      <td>0.256</td>\n",
       "      <td>NaN</td>\n",
       "      <td>NaN</td>\n",
       "      <td>NaN</td>\n",
       "      <td>21.0</td>\n",
       "      <td>82.0</td>\n",
       "      <td>0.256</td>\n",
       "      <td>0.256</td>\n",
       "      <td>17.0</td>\n",
       "      <td>31.0</td>\n",
       "      <td>0.548</td>\n",
       "      <td>NaN</td>\n",
       "      <td>NaN</td>\n",
       "      <td>NaN</td>\n",
       "      <td>20.0</td>\n",
       "      <td>NaN</td>\n",
       "      <td>NaN</td>\n",
       "      <td>NaN</td>\n",
       "      <td>27.0</td>\n",
       "      <td>59.0</td>\n",
       "    </tr>\n",
       "  </tbody>\n",
       "</table>\n",
       "</div>"
      ],
      "text/plain": [
       "   Unnamed: 0    Year           Player  Pos   Age   Tm     G  GS  MP  PER  \\\n",
       "0           0  1950.0  Curly Armstrong  G-F  31.0  FTW  63.0 NaN NaN  NaN   \n",
       "1           1  1950.0     Cliff Barker   SG  29.0  INO  49.0 NaN NaN  NaN   \n",
       "2           2  1950.0    Leo Barnhorst   SF  25.0  CHS  67.0 NaN NaN  NaN   \n",
       "3           3  1950.0       Ed Bartels    F  24.0  TOT  15.0 NaN NaN  NaN   \n",
       "4           4  1950.0       Ed Bartels    F  24.0  DNN  13.0 NaN NaN  NaN   \n",
       "\n",
       "     TS%  3PAr    FTr  ORB%  DRB%  TRB%  AST%  STL%  BLK%  TOV%  USG%  blanl  \\\n",
       "0  0.368   NaN  0.467   NaN   NaN   NaN   NaN   NaN   NaN   NaN   NaN    NaN   \n",
       "1  0.435   NaN  0.387   NaN   NaN   NaN   NaN   NaN   NaN   NaN   NaN    NaN   \n",
       "2  0.394   NaN  0.259   NaN   NaN   NaN   NaN   NaN   NaN   NaN   NaN    NaN   \n",
       "3  0.312   NaN  0.395   NaN   NaN   NaN   NaN   NaN   NaN   NaN   NaN    NaN   \n",
       "4  0.308   NaN  0.378   NaN   NaN   NaN   NaN   NaN   NaN   NaN   NaN    NaN   \n",
       "\n",
       "   OWS  DWS   WS  WS/48  blank2  OBPM  DBPM  BPM  VORP     FG    FGA    FG%  \\\n",
       "0 -0.1  3.6  3.5    NaN     NaN   NaN   NaN  NaN   NaN  144.0  516.0  0.279   \n",
       "1  1.6  0.6  2.2    NaN     NaN   NaN   NaN  NaN   NaN  102.0  274.0  0.372   \n",
       "2  0.9  2.8  3.6    NaN     NaN   NaN   NaN  NaN   NaN  174.0  499.0  0.349   \n",
       "3 -0.5 -0.1 -0.6    NaN     NaN   NaN   NaN  NaN   NaN   22.0   86.0  0.256   \n",
       "4 -0.5 -0.1 -0.6    NaN     NaN   NaN   NaN  NaN   NaN   21.0   82.0  0.256   \n",
       "\n",
       "   3P  3PA  3P%     2P    2PA    2P%   eFG%     FT    FTA    FT%  ORB  DRB  \\\n",
       "0 NaN  NaN  NaN  144.0  516.0  0.279  0.279  170.0  241.0  0.705  NaN  NaN   \n",
       "1 NaN  NaN  NaN  102.0  274.0  0.372  0.372   75.0  106.0  0.708  NaN  NaN   \n",
       "2 NaN  NaN  NaN  174.0  499.0  0.349  0.349   90.0  129.0  0.698  NaN  NaN   \n",
       "3 NaN  NaN  NaN   22.0   86.0  0.256  0.256   19.0   34.0  0.559  NaN  NaN   \n",
       "4 NaN  NaN  NaN   21.0   82.0  0.256  0.256   17.0   31.0  0.548  NaN  NaN   \n",
       "\n",
       "   TRB    AST  STL  BLK  TOV     PF    PTS  \n",
       "0  NaN  176.0  NaN  NaN  NaN  217.0  458.0  \n",
       "1  NaN  109.0  NaN  NaN  NaN   99.0  279.0  \n",
       "2  NaN  140.0  NaN  NaN  NaN  192.0  438.0  \n",
       "3  NaN   20.0  NaN  NaN  NaN   29.0   63.0  \n",
       "4  NaN   20.0  NaN  NaN  NaN   27.0   59.0  "
      ]
     },
     "execution_count": 1018,
     "metadata": {},
     "output_type": "execute_result"
    }
   ],
   "source": [
    "season_stats.head()"
   ]
  },
  {
   "cell_type": "code",
   "execution_count": 1105,
   "metadata": {},
   "outputs": [
    {
     "name": "stderr",
     "output_type": "stream",
     "text": [
      "/anaconda/lib/python3.6/site-packages/ipykernel_launcher.py:9: SettingWithCopyWarning: \n",
      "A value is trying to be set on a copy of a slice from a DataFrame.\n",
      "Try using .loc[row_indexer,col_indexer] = value instead\n",
      "\n",
      "See the caveats in the documentation: http://pandas.pydata.org/pandas-docs/stable/indexing.html#indexing-view-versus-copy\n",
      "  if __name__ == '__main__':\n"
     ]
    },
    {
     "name": "stdout",
     "output_type": "stream",
     "text": [
      "401\n"
     ]
    },
    {
     "name": "stderr",
     "output_type": "stream",
     "text": [
      "/anaconda/lib/python3.6/site-packages/ipykernel_launcher.py:25: FutureWarning: Sorting because non-concatenation axis is not aligned. A future version\n",
      "of pandas will change to not sort by default.\n",
      "\n",
      "To accept the future behavior, pass 'sort=False'.\n",
      "\n",
      "To retain the current behavior and silence the warning, pass 'sort=True'.\n",
      "\n",
      "/anaconda/lib/python3.6/site-packages/ipykernel_launcher.py:37: FutureWarning: Sorting because non-concatenation axis is not aligned. A future version\n",
      "of pandas will change to not sort by default.\n",
      "\n",
      "To accept the future behavior, pass 'sort=False'.\n",
      "\n",
      "To retain the current behavior and silence the warning, pass 'sort=True'.\n",
      "\n"
     ]
    }
   ],
   "source": [
    "historical_players = players_data[players_data.year_end < 2018]\n",
    "\n",
    "# get labels\n",
    "labelled_historical_players = pd.merge(labels,historical_players.drop_duplicates(subset='name', keep=\"last\"), on='name', how='inner')\n",
    "\n",
    "idx = season_stats.groupby(['Player'])['PER'].transform(max) == season_stats['PER']\n",
    "one_row_per_player_stats = season_stats[idx]\n",
    "# one_row_per_player_stats = season_stats[~season_stats.Player.isna()]\n",
    "one_row_per_player_stats['Player'] = [row[:-1] if row.endswith(\"*\") else row for row in one_row_per_player_stats.Player ]\n",
    "\n",
    "\n",
    "training_features = pd.merge(labelled_historical_players, one_row_per_player_stats, how='inner', left_on = 'name', right_on=\"Player\")\n",
    "print(training_features.__len__())\n",
    "training_features.head()\n",
    "\n",
    "\n",
    "helper = pd.merge(one_row_per_player_stats, players_data, how='inner', left_on='Player', right_on='name')\n",
    "no_all_star = helper[~helper.Player.isin(training_features.Player)]\n",
    "no_all_star = no_all_star[no_all_star.year_start < no_all_star.Year]\n",
    "no_all_star = no_all_star[no_all_star.year_start > 2000]\n",
    "no_all_star['selections'] = 0\n",
    "for_test_zeros = no_all_star.sample(20)\n",
    "no_all_star = no_all_star.sample(50)\n",
    "\n",
    "final_training_features = pd.concat([no_all_star, training_features])\n",
    "final_training_features = pd.merge(pd.get_dummies(final_training_features.position),final_training_features,  left_index=True, right_index=True)\n",
    "final_training_features = pd.merge(pd.get_dummies(final_training_features.Tm),final_training_features,  left_index=True, right_index=True)\n",
    "\n",
    "\n",
    "## test features\n",
    "\n",
    "current_players = players_data[players_data.year_end == 2018]\n",
    "labelled_current_players = pd.merge(labels,current_players.drop_duplicates(subset='name', keep=\"last\"), on='name', how='inner')\n",
    "test_features = pd.merge(labelled_current_players, one_row_per_player_stats, how='inner', left_on = 'name', right_on=\"Player\")\n",
    "test_features = pd.merge(pd.get_dummies(test_features.position),test_features,  left_index=True, right_index=True)\n",
    "test_features = pd.merge(pd.get_dummies(test_features.Tm),test_features,  left_index=True, right_index=True)\n",
    "test_features = pd.concat([for_test_zeros, test_features])\n",
    "\n"
   ]
  },
  {
   "cell_type": "code",
   "execution_count": 780,
   "metadata": {},
   "outputs": [],
   "source": [
    "# handle missing values\n"
   ]
  },
  {
   "cell_type": "code",
   "execution_count": 1064,
   "metadata": {},
   "outputs": [
    {
     "name": "stderr",
     "output_type": "stream",
     "text": [
      "/anaconda/lib/python3.6/site-packages/ipykernel_launcher.py:1: FutureWarning: Sorting because non-concatenation axis is not aligned. A future version\n",
      "of pandas will change to not sort by default.\n",
      "\n",
      "To accept the future behavior, pass 'sort=False'.\n",
      "\n",
      "To retain the current behavior and silence the warning, pass 'sort=True'.\n",
      "\n",
      "  \"\"\"Entry point for launching an IPython kernel.\n"
     ]
    }
   ],
   "source": []
  },
  {
   "cell_type": "code",
   "execution_count": 902,
   "metadata": {},
   "outputs": [],
   "source": [
    "# final_training_features.drop(columns=final_training_features.columns[final_training_features.isna().sum() > 0], inplace=True)"
   ]
  },
  {
   "cell_type": "code",
   "execution_count": 790,
   "metadata": {},
   "outputs": [],
   "source": [
    "# test_features.drop(columns=test_features.columns[test_features.isna().sum() > 0],inplace=True)"
   ]
  },
  {
   "cell_type": "code",
   "execution_count": 1115,
   "metadata": {},
   "outputs": [
    {
     "name": "stderr",
     "output_type": "stream",
     "text": [
      "/anaconda/lib/python3.6/site-packages/ipykernel_launcher.py:1: FutureWarning: Sorting because non-concatenation axis is not aligned. A future version\n",
      "of pandas will change to not sort by default.\n",
      "\n",
      "To accept the future behavior, pass 'sort=False'.\n",
      "\n",
      "To retain the current behavior and silence the warning, pass 'sort=True'.\n",
      "\n",
      "  \"\"\"Entry point for launching an IPython kernel.\n"
     ]
    },
    {
     "data": {
      "text/plain": [
       "532"
      ]
     },
     "execution_count": 1115,
     "metadata": {},
     "output_type": "execute_result"
    }
   ],
   "source": [
    "mega_training = pd.concat([final_training_features, test_features])\n",
    "mega_training.drop(columns=mega_training.columns[mega_training.isna().sum() > 100], inplace=True)\n",
    "len(mega_training)"
   ]
  },
  {
   "cell_type": "code",
   "execution_count": null,
   "metadata": {},
   "outputs": [],
   "source": []
  },
  {
   "cell_type": "code",
   "execution_count": null,
   "metadata": {},
   "outputs": [],
   "source": []
  },
  {
   "cell_type": "code",
   "execution_count": 1116,
   "metadata": {},
   "outputs": [],
   "source": [
    "final_test = ['Luka Doncic',\n",
    "'Karl Anthony-Towns',\n",
    "'Kyrie Irving',\n",
    "'Stephen Curry']\n",
    "steph = mega_training[mega_training.name == 'Stephen Curry']\n",
    "kyrie = mega_training[mega_training.name == 'Kyrie Irving']\n",
    "mega_training.dropna(inplace=True)\n",
    "mega_training = mega_training[~mega_training.Player.isin(final_test)]"
   ]
  },
  {
   "cell_type": "code",
   "execution_count": 1143,
   "metadata": {},
   "outputs": [],
   "source": [
    "corr = mega_training.corr()\n",
    "# corr.style.background_gradient(cmap='coolwarm')"
   ]
  },
  {
   "cell_type": "code",
   "execution_count": 1048,
   "metadata": {},
   "outputs": [
    {
     "data": {
      "image/png": "[encoded data removed]",
      "text/plain": [
       "<matplotlib.figure.Figure at 0x129b29f98>"
      ]
     },
     "metadata": {},
     "output_type": "display_data"
    }
   ],
   "source": [
    "sns.regplot(mega_training.selections, mega_training.PTS)\n",
    "plt.show()"
   ]
  },
  {
   "cell_type": "code",
   "execution_count": 1024,
   "metadata": {},
   "outputs": [
    {
     "name": "stderr",
     "output_type": "stream",
     "text": [
      "/anaconda/lib/python3.6/site-packages/seaborn/categorical.py:1428: FutureWarning: remove_na is deprecated and is a private function. Do not use.\n",
      "  stat_data = remove_na(group_data)\n"
     ]
    },
    {
     "data": {
      "image/png": "[encoded data removed]",
      "text/plain": [
       "<matplotlib.figure.Figure at 0x129665278>"
      ]
     },
     "metadata": {},
     "output_type": "display_data"
    }
   ],
   "source": [
    "\n",
    "corr['selections'].sort_values(ascending=False).head(15)\n",
    "corr['selections'].sort_values(ascending=False).head()\n",
    "corr = corr['selections'].sort_values(ascending=False)\n",
    "sns.barplot(x=corr.index[1:12], y=corr[1:12])\n",
    "plt.show()\n",
    "\n"
   ]
  },
  {
   "cell_type": "code",
   "execution_count": null,
   "metadata": {},
   "outputs": [],
   "source": []
  },
  {
   "cell_type": "markdown",
   "metadata": {},
   "source": [
    "## Feature selection and Modelling"
   ]
  },
  {
   "cell_type": "code",
   "execution_count": 1090,
   "metadata": {},
   "outputs": [
    {
     "name": "stderr",
     "output_type": "stream",
     "text": [
      "/anaconda/lib/python3.6/site-packages/sklearn/feature_selection/univariate_selection.py:279: RuntimeWarning: invalid value encountered in true_divide\n",
      "  corr /= row_norms(X.T)\n",
      "/anaconda/lib/python3.6/site-packages/scipy/stats/_distn_infrastructure.py:879: RuntimeWarning: invalid value encountered in greater\n",
      "  return (self.a < x) & (x < self.b)\n",
      "/anaconda/lib/python3.6/site-packages/scipy/stats/_distn_infrastructure.py:879: RuntimeWarning: invalid value encountered in less\n",
      "  return (self.a < x) & (x < self.b)\n",
      "/anaconda/lib/python3.6/site-packages/scipy/stats/_distn_infrastructure.py:1818: RuntimeWarning: invalid value encountered in less_equal\n",
      "  cond2 = cond0 & (x <= self.a)\n"
     ]
    },
    {
     "data": {
      "text/plain": [
       "['2P',\n",
       " '2PA',\n",
       " 'DWS',\n",
       " 'FG',\n",
       " 'FGA',\n",
       " 'FT',\n",
       " 'FTA',\n",
       " 'MP',\n",
       " 'OWS',\n",
       " 'PER',\n",
       " 'PTS',\n",
       " 'TRB',\n",
       " 'Unnamed: 0_x',\n",
       " 'WS',\n",
       " 'WS/48']"
      ]
     },
     "execution_count": 1090,
     "metadata": {},
     "output_type": "execute_result"
    }
   ],
   "source": [
    "\n",
    "b = SelectKBest(f_regression, k=15)\n",
    "b.fit(mega_training._get_numeric_data(), mega_training.selections)\n",
    "cols = b.get_support()\n",
    "cols = mega_training._get_numeric_data().loc[:, cols].columns\n",
    "cols = [x for x in cols if x != 'selections']\n",
    "cols"
   ]
  },
  {
   "cell_type": "markdown",
   "metadata": {},
   "source": [
    "## Train test split"
   ]
  },
  {
   "cell_type": "code",
   "execution_count": 1091,
   "metadata": {},
   "outputs": [],
   "source": [
    "from sklearn.model_selection import train_test_split # Split into train test data\n",
    "\n",
    "train_features, test_features, train_outcome, test_outcome = train_test_split(\n",
    "    mega_training[cols],\n",
    "    mega_training.selections,\n",
    "    test_size = 0.20,\n",
    "    random_state = 11\n",
    ")"
   ]
  },
  {
   "cell_type": "code",
   "execution_count": 1092,
   "metadata": {},
   "outputs": [
    {
     "name": "stdout",
     "output_type": "stream",
     "text": [
      "Fitting 3 folds for each of 2 candidates, totalling 6 fits\n",
      "0.910646063808\n"
     ]
    },
    {
     "name": "stderr",
     "output_type": "stream",
     "text": [
      "[Parallel(n_jobs=1)]: Done   6 out of   6 | elapsed:    0.0s finished\n"
     ]
    }
   ],
   "source": [
    "from sklearn.preprocessing import MinMaxScaler       # scaling data\n",
    "from sklearn.model_selection import GridSearchCV     # for grid search\n",
    "from sklearn.pipeline import make_pipeline  \n",
    "from sklearn.preprocessing import PolynomialFeatures\n",
    "poly = PolynomialFeatures()# for making pipelines\n",
    "scaler = MinMaxScaler()\n",
    "pipe = make_pipeline(poly, scaler, Ridge())\n",
    "\n",
    "# Define a grid to search through (including the degree of polynomial)\n",
    "param_grid = {'polynomialfeatures__degree':range(1, 3)}\n",
    "grid = GridSearchCV(pipe, param_grid, scoring=\"r2\", verbose=1)\n",
    "grid.fit(train_features, train_outcome)\n",
    "print(grid.score(test_features, test_outcome))\n"
   ]
  },
  {
   "cell_type": "code",
   "execution_count": null,
   "metadata": {},
   "outputs": [],
   "source": []
  },
  {
   "cell_type": "code",
   "execution_count": null,
   "metadata": {},
   "outputs": [],
   "source": []
  },
  {
   "cell_type": "code",
   "execution_count": 818,
   "metadata": {},
   "outputs": [],
   "source": []
  },
  {
   "cell_type": "code",
   "execution_count": null,
   "metadata": {},
   "outputs": [],
   "source": []
  },
  {
   "cell_type": "code",
   "execution_count": null,
   "metadata": {},
   "outputs": [],
   "source": []
  },
  {
   "cell_type": "code",
   "execution_count": 1034,
   "metadata": {},
   "outputs": [
    {
     "name": "stdout",
     "output_type": "stream",
     "text": [
      "Graph of Predicted labels vs True Labels\n"
     ]
    },
    {
     "data": {
      "image/png": "[encoded data removed]",
      "text/plain": [
       "<matplotlib.figure.Figure at 0x125bfcb38>"
      ]
     },
     "metadata": {},
     "output_type": "display_data"
    }
   ],
   "source": [
    "import seaborn as sns\n",
    "print('Graph of Predicted labels vs True Labels')\n",
    "ax =sns.regplot(x=grid.predict(test_features),y=test_outcome )\n",
    "ax.set(xlabel='Predicted', ylabel='Actual Values')\n",
    "plt.show()"
   ]
  },
  {
   "cell_type": "code",
   "execution_count": 452,
   "metadata": {
    "collapsed": true
   },
   "outputs": [],
   "source": [
    "from sklearn.ensemble import RandomForestRegressor"
   ]
  },
  {
   "cell_type": "code",
   "execution_count": 1030,
   "metadata": {},
   "outputs": [
    {
     "data": {
      "text/plain": [
       "0.96046335476411593"
      ]
     },
     "execution_count": 1030,
     "metadata": {},
     "output_type": "execute_result"
    }
   ],
   "source": [
    "regr = RandomForestRegressor(max_depth=2, random_state=0,n_estimators=100)\n",
    "regr.fit(train_features, train_outcome)\n",
    "predictions = regr.predict(test_features)\n",
    "predictions = [x if x >=0 else 0 for x in predictions]\n",
    "regr.score(test_features,test_outcome)"
   ]
  },
  {
   "cell_type": "code",
   "execution_count": null,
   "metadata": {},
   "outputs": [],
   "source": []
  },
  {
   "cell_type": "code",
   "execution_count": 1031,
   "metadata": {},
   "outputs": [
    {
     "name": "stdout",
     "output_type": "stream",
     "text": [
      "Graph of Predicted labels vs True Labels\n"
     ]
    },
    {
     "data": {
      "image/png": "[encoded data removed]",
      "text/plain": [
       "<matplotlib.figure.Figure at 0x1282e44e0>"
      ]
     },
     "metadata": {},
     "output_type": "display_data"
    }
   ],
   "source": [
    "import seaborn as sns\n",
    "print('Graph of Predicted labels vs True Labels')\n",
    "ax = sns.regplot(x=regr.predict(test_features),y=test_outcome )\n",
    "ax.set(xlabel='Predicted', ylabel='Actual Values')\n",
    "plt.show()"
   ]
  },
  {
   "cell_type": "code",
   "execution_count": 1078,
   "metadata": {},
   "outputs": [],
   "source": [
    "# from sklearn.linear_model import LogisticRegression\n",
    "# regr = LogisticRegression()\n",
    "# regr.fit(train_features, train_outcome)\n",
    "# predictions = regr.predict(test_features)\n",
    "# predictions = [x if x >=0 else 0 for x in predictions]\n",
    "# regr.score(test_features,test_outcome)"
   ]
  },
  {
   "cell_type": "code",
   "execution_count": null,
   "metadata": {},
   "outputs": [],
   "source": []
  },
  {
   "cell_type": "code",
   "execution_count": 1097,
   "metadata": {},
   "outputs": [
    {
     "data": {
      "text/html": [
       "<div>\n",
       "<style scoped>\n",
       "    .dataframe tbody tr th:only-of-type {\n",
       "        vertical-align: middle;\n",
       "    }\n",
       "\n",
       "    .dataframe tbody tr th {\n",
       "        vertical-align: top;\n",
       "    }\n",
       "\n",
       "    .dataframe thead th {\n",
       "        text-align: right;\n",
       "    }\n",
       "</style>\n",
       "<table border=\"1\" class=\"dataframe\">\n",
       "  <thead>\n",
       "    <tr style=\"text-align: right;\">\n",
       "      <th></th>\n",
       "      <th>ATL</th>\n",
       "      <th>BAL</th>\n",
       "      <th>BLB</th>\n",
       "      <th>BOS</th>\n",
       "      <th>BRK</th>\n",
       "      <th>BUF</th>\n",
       "      <th>CHA</th>\n",
       "      <th>CHH</th>\n",
       "      <th>CHI</th>\n",
       "      <th>CHO</th>\n",
       "      <th>CHP</th>\n",
       "      <th>CHZ</th>\n",
       "      <th>CIN</th>\n",
       "      <th>CLE</th>\n",
       "      <th>DAL</th>\n",
       "      <th>DEN</th>\n",
       "      <th>DET</th>\n",
       "      <th>FTW</th>\n",
       "      <th>GSW</th>\n",
       "      <th>HOU</th>\n",
       "      <th>IND</th>\n",
       "      <th>INO</th>\n",
       "      <th>KCK</th>\n",
       "      <th>KCO</th>\n",
       "      <th>LAC</th>\n",
       "      <th>LAL</th>\n",
       "      <th>MIA</th>\n",
       "      <th>MIL</th>\n",
       "      <th>MIN</th>\n",
       "      <th>MLH</th>\n",
       "      <th>MNL</th>\n",
       "      <th>NJN</th>\n",
       "      <th>NOH</th>\n",
       "      <th>NOJ</th>\n",
       "      <th>NOP</th>\n",
       "      <th>NYK</th>\n",
       "      <th>NYN</th>\n",
       "      <th>OKC</th>\n",
       "      <th>ORL</th>\n",
       "      <th>PHI</th>\n",
       "      <th>PHO</th>\n",
       "      <th>PHW</th>\n",
       "      <th>POR</th>\n",
       "      <th>ROC</th>\n",
       "      <th>SAC</th>\n",
       "      <th>SAS</th>\n",
       "      <th>SDC</th>\n",
       "      <th>SDR</th>\n",
       "      <th>SEA</th>\n",
       "      <th>SFW</th>\n",
       "      <th>STL_x</th>\n",
       "      <th>SYR</th>\n",
       "      <th>TOR</th>\n",
       "      <th>TOT</th>\n",
       "      <th>UTA</th>\n",
       "      <th>WAS</th>\n",
       "      <th>WSB</th>\n",
       "      <th>C</th>\n",
       "      <th>C-F</th>\n",
       "      <th>F</th>\n",
       "      <th>F-C</th>\n",
       "      <th>F-G</th>\n",
       "      <th>G_x</th>\n",
       "      <th>G-F</th>\n",
       "      <th>2P</th>\n",
       "      <th>2P%</th>\n",
       "      <th>2PA</th>\n",
       "      <th>3P</th>\n",
       "      <th>3P%</th>\n",
       "      <th>3PA</th>\n",
       "      <th>3PAr</th>\n",
       "      <th>AST</th>\n",
       "      <th>AST%</th>\n",
       "      <th>Age</th>\n",
       "      <th>BLK</th>\n",
       "      <th>BLK%</th>\n",
       "      <th>BPM</th>\n",
       "      <th>DBPM</th>\n",
       "      <th>DRB</th>\n",
       "      <th>DRB%</th>\n",
       "      <th>DWS</th>\n",
       "      <th>FG</th>\n",
       "      <th>FG%</th>\n",
       "      <th>FGA</th>\n",
       "      <th>FT</th>\n",
       "      <th>FT%</th>\n",
       "      <th>FTA</th>\n",
       "      <th>FTr</th>\n",
       "      <th>G_y</th>\n",
       "      <th>GS</th>\n",
       "      <th>MP</th>\n",
       "      <th>OBPM</th>\n",
       "      <th>ORB</th>\n",
       "      <th>ORB%</th>\n",
       "      <th>OWS</th>\n",
       "      <th>PER</th>\n",
       "      <th>PF</th>\n",
       "      <th>PTS</th>\n",
       "      <th>Player</th>\n",
       "      <th>Pos</th>\n",
       "      <th>STL_y</th>\n",
       "      <th>STL%</th>\n",
       "      <th>TOV</th>\n",
       "      <th>TOV%</th>\n",
       "      <th>TRB</th>\n",
       "      <th>TRB%</th>\n",
       "      <th>TS%</th>\n",
       "      <th>Tm</th>\n",
       "      <th>USG%</th>\n",
       "      <th>Unnamed: 0</th>\n",
       "      <th>Unnamed: 0_x</th>\n",
       "      <th>Unnamed: 0_y</th>\n",
       "      <th>VORP</th>\n",
       "      <th>WS</th>\n",
       "      <th>WS/48</th>\n",
       "      <th>Year</th>\n",
       "      <th>birth_date</th>\n",
       "      <th>blank2</th>\n",
       "      <th>blanl</th>\n",
       "      <th>college</th>\n",
       "      <th>eFG%</th>\n",
       "      <th>height</th>\n",
       "      <th>name</th>\n",
       "      <th>position</th>\n",
       "      <th>selections</th>\n",
       "      <th>weight</th>\n",
       "      <th>year_end</th>\n",
       "      <th>year_start</th>\n",
       "    </tr>\n",
       "  </thead>\n",
       "  <tbody>\n",
       "  </tbody>\n",
       "</table>\n",
       "</div>"
      ],
      "text/plain": [
       "Empty DataFrame\n",
       "Columns: [ATL, BAL, BLB, BOS, BRK, BUF, CHA, CHH, CHI, CHO, CHP, CHZ, CIN, CLE, DAL, DEN, DET, FTW, GSW, HOU, IND, INO, KCK, KCO, LAC, LAL, MIA, MIL, MIN, MLH, MNL, NJN, NOH, NOJ, NOP, NYK, NYN, OKC, ORL, PHI, PHO, PHW, POR, ROC, SAC, SAS, SDC, SDR, SEA, SFW, STL_x, SYR, TOR, TOT, UTA, WAS, WSB, C, C-F, F, F-C, F-G, G_x, G-F, 2P, 2P%, 2PA, 3P, 3P%, 3PA, 3PAr, AST, AST%, Age, BLK, BLK%, BPM, DBPM, DRB, DRB%, DWS, FG, FG%, FGA, FT, FT%, FTA, FTr, G_y, GS, MP, OBPM, ORB, ORB%, OWS, PER, PF, PTS, Player, Pos, ...]\n",
       "Index: []"
      ]
     },
     "execution_count": 1097,
     "metadata": {},
     "output_type": "execute_result"
    }
   ],
   "source": [
    "final_training_features[final_training_features.name == 'Stephen Curry']"
   ]
  },
  {
   "cell_type": "code",
   "execution_count": 1142,
   "metadata": {},
   "outputs": [
    {
     "name": "stdout",
     "output_type": "stream",
     "text": [
      "Stephen Curry : [ 5.47284037]\n",
      "Kyrie Irving : [ 5.38215166]\n"
     ]
    }
   ],
   "source": [
    "regr = RandomForestRegressor(max_depth=2, random_state=0,n_estimators=100)\n",
    "regr.fit(train_features, train_outcome)\n",
    "print(\"Stephen Curry : \" + str(regr.predict(steph[cols].dropna())))\n",
    "print(\"Kyrie Irving : \" + str(regr.predict(kyrie[cols].dropna())))\n",
    "\n",
    "# predictions = [x if x >=0 else 0 for x in predictions]\n",
    "# regr.score(mega_training[mega_training.name == 'Stephen Curry'][cols],test_outcome)"
   ]
  },
  {
   "cell_type": "code",
   "execution_count": null,
   "metadata": {},
   "outputs": [],
   "source": []
  },
  {
   "cell_type": "code",
   "execution_count": null,
   "metadata": {
    "collapsed": true
   },
   "outputs": [],
   "source": []
  }
 ],
 "metadata": {
  "kernelspec": {
   "display_name": "Python 3",
   "language": "python",
   "name": "python3"
  },
  "language_info": {
   "codemirror_mode": {
    "name": "ipython",
    "version": 3
   },
   "file_extension": ".py",
   "mimetype": "text/x-python",
   "name": "python",
   "nbconvert_exporter": "python",
   "pygments_lexer": "ipython3",
   "version": "3.6.1"
  }
 },
 "nbformat": 4,
 "nbformat_minor": 2
}
